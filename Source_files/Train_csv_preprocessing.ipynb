{
 "cells": [
  {
   "cell_type": "code",
   "execution_count": 1,
   "id": "0ba9bcf5",
   "metadata": {},
   "outputs": [],
   "source": [
    "import pandas as pd\n",
    "import numpy as np\n",
    "from sklearn.preprocessing import MinMaxScaler\n",
    "from tensorflow.keras.models import Sequential\n",
    "from tensorflow.keras.layers import LSTM, Dense"
   ]
  },
  {
   "cell_type": "code",
   "execution_count": 2,
   "id": "3930049b",
   "metadata": {},
   "outputs": [],
   "source": [
    "df = pd.read_csv(\"C:\\\\Users\\\\Lenovo\\\\Downloads\\\\new dataset\\\\dataset\\\\train.csv\")"
   ]
  },
  {
   "cell_type": "code",
   "execution_count": 3,
   "id": "29b9ba7b",
   "metadata": {},
   "outputs": [
    {
     "data": {
      "text/html": [
       "<div>\n",
       "<style scoped>\n",
       "    .dataframe tbody tr th:only-of-type {\n",
       "        vertical-align: middle;\n",
       "    }\n",
       "\n",
       "    .dataframe tbody tr th {\n",
       "        vertical-align: top;\n",
       "    }\n",
       "\n",
       "    .dataframe thead th {\n",
       "        text-align: right;\n",
       "    }\n",
       "</style>\n",
       "<table border=\"1\" class=\"dataframe\">\n",
       "  <thead>\n",
       "    <tr style=\"text-align: right;\">\n",
       "      <th></th>\n",
       "      <th>Timestamp</th>\n",
       "      <th>Residents</th>\n",
       "      <th>Apartment_Type</th>\n",
       "      <th>Temperature</th>\n",
       "      <th>Humidity</th>\n",
       "      <th>Water_Price</th>\n",
       "      <th>Period_Consumption_Index</th>\n",
       "      <th>Income_Level</th>\n",
       "      <th>Guests</th>\n",
       "      <th>Amenities</th>\n",
       "      <th>Appliance_Usage</th>\n",
       "      <th>Water_Consumption</th>\n",
       "    </tr>\n",
       "  </thead>\n",
       "  <tbody>\n",
       "    <tr>\n",
       "      <th>0</th>\n",
       "      <td>01/01/2002 00</td>\n",
       "      <td>1</td>\n",
       "      <td>Studio</td>\n",
       "      <td>15.31</td>\n",
       "      <td>46.61</td>\n",
       "      <td>1.06</td>\n",
       "      <td>0.97</td>\n",
       "      <td>Low</td>\n",
       "      <td>0</td>\n",
       "      <td>Swimming Pool</td>\n",
       "      <td>0.0</td>\n",
       "      <td>64.85</td>\n",
       "    </tr>\n",
       "    <tr>\n",
       "      <th>1</th>\n",
       "      <td>01/01/2002 08</td>\n",
       "      <td>4</td>\n",
       "      <td>NaN</td>\n",
       "      <td>21.01</td>\n",
       "      <td>66.11</td>\n",
       "      <td>2.98</td>\n",
       "      <td>0.91</td>\n",
       "      <td>Upper Middle</td>\n",
       "      <td>1</td>\n",
       "      <td>Swimming Pool</td>\n",
       "      <td>1.0</td>\n",
       "      <td>192.50</td>\n",
       "    </tr>\n",
       "    <tr>\n",
       "      <th>2</th>\n",
       "      <td>01/01/2002 16</td>\n",
       "      <td>2</td>\n",
       "      <td>Cottage</td>\n",
       "      <td>12.86</td>\n",
       "      <td>60.86</td>\n",
       "      <td>1.44</td>\n",
       "      <td>1.43</td>\n",
       "      <td>Middle</td>\n",
       "      <td>0</td>\n",
       "      <td>None</td>\n",
       "      <td>1.0</td>\n",
       "      <td>116.62</td>\n",
       "    </tr>\n",
       "    <tr>\n",
       "      <th>3</th>\n",
       "      <td>02/01/2002 00</td>\n",
       "      <td>2</td>\n",
       "      <td>1BHK</td>\n",
       "      <td>20.16</td>\n",
       "      <td>50.58</td>\n",
       "      <td>1.48</td>\n",
       "      <td>0.91</td>\n",
       "      <td>Middle</td>\n",
       "      <td>-1</td>\n",
       "      <td>Garden</td>\n",
       "      <td>0.0</td>\n",
       "      <td>76.96</td>\n",
       "    </tr>\n",
       "    <tr>\n",
       "      <th>4</th>\n",
       "      <td>02/01/2002 08</td>\n",
       "      <td>2</td>\n",
       "      <td>Cottage</td>\n",
       "      <td>16.23</td>\n",
       "      <td>52.25</td>\n",
       "      <td>1.14</td>\n",
       "      <td>1.11</td>\n",
       "      <td>Middle</td>\n",
       "      <td>0</td>\n",
       "      <td>Fountain</td>\n",
       "      <td>0.0</td>\n",
       "      <td>104.70</td>\n",
       "    </tr>\n",
       "  </tbody>\n",
       "</table>\n",
       "</div>"
      ],
      "text/plain": [
       "       Timestamp  Residents Apartment_Type  Temperature Humidity  Water_Price  \\\n",
       "0  01/01/2002 00          1         Studio        15.31    46.61         1.06   \n",
       "1  01/01/2002 08          4            NaN        21.01    66.11         2.98   \n",
       "2  01/01/2002 16          2        Cottage        12.86    60.86         1.44   \n",
       "3  02/01/2002 00          2           1BHK        20.16    50.58         1.48   \n",
       "4  02/01/2002 08          2        Cottage        16.23    52.25         1.14   \n",
       "\n",
       "   Period_Consumption_Index  Income_Level  Guests      Amenities  \\\n",
       "0                      0.97           Low       0  Swimming Pool   \n",
       "1                      0.91  Upper Middle       1  Swimming Pool   \n",
       "2                      1.43        Middle       0           None   \n",
       "3                      0.91        Middle      -1         Garden   \n",
       "4                      1.11        Middle       0       Fountain   \n",
       "\n",
       "   Appliance_Usage  Water_Consumption  \n",
       "0              0.0              64.85  \n",
       "1              1.0             192.50  \n",
       "2              1.0             116.62  \n",
       "3              0.0              76.96  \n",
       "4              0.0             104.70  "
      ]
     },
     "execution_count": 3,
     "metadata": {},
     "output_type": "execute_result"
    }
   ],
   "source": [
    "df.head()"
   ]
  },
  {
   "cell_type": "code",
   "execution_count": 4,
   "id": "13cf0fa4",
   "metadata": {},
   "outputs": [
    {
     "data": {
      "text/html": [
       "<div>\n",
       "<style scoped>\n",
       "    .dataframe tbody tr th:only-of-type {\n",
       "        vertical-align: middle;\n",
       "    }\n",
       "\n",
       "    .dataframe tbody tr th {\n",
       "        vertical-align: top;\n",
       "    }\n",
       "\n",
       "    .dataframe thead th {\n",
       "        text-align: right;\n",
       "    }\n",
       "</style>\n",
       "<table border=\"1\" class=\"dataframe\">\n",
       "  <thead>\n",
       "    <tr style=\"text-align: right;\">\n",
       "      <th></th>\n",
       "      <th>Timestamp</th>\n",
       "      <th>Residents</th>\n",
       "      <th>Apartment_Type</th>\n",
       "      <th>Temperature</th>\n",
       "      <th>Humidity</th>\n",
       "      <th>Water_Price</th>\n",
       "      <th>Period_Consumption_Index</th>\n",
       "      <th>Income_Level</th>\n",
       "      <th>Guests</th>\n",
       "      <th>Amenities</th>\n",
       "      <th>Appliance_Usage</th>\n",
       "      <th>Water_Consumption</th>\n",
       "    </tr>\n",
       "  </thead>\n",
       "  <tbody>\n",
       "    <tr>\n",
       "      <th>0</th>\n",
       "      <td>2002-01-01 00:00:00</td>\n",
       "      <td>1</td>\n",
       "      <td>Studio</td>\n",
       "      <td>15.31</td>\n",
       "      <td>46.61</td>\n",
       "      <td>1.06</td>\n",
       "      <td>0.97</td>\n",
       "      <td>Low</td>\n",
       "      <td>0</td>\n",
       "      <td>Swimming Pool</td>\n",
       "      <td>0.0</td>\n",
       "      <td>64.85</td>\n",
       "    </tr>\n",
       "    <tr>\n",
       "      <th>1</th>\n",
       "      <td>2002-01-01 08:00:00</td>\n",
       "      <td>4</td>\n",
       "      <td>NaN</td>\n",
       "      <td>21.01</td>\n",
       "      <td>66.11</td>\n",
       "      <td>2.98</td>\n",
       "      <td>0.91</td>\n",
       "      <td>Upper Middle</td>\n",
       "      <td>1</td>\n",
       "      <td>Swimming Pool</td>\n",
       "      <td>1.0</td>\n",
       "      <td>192.50</td>\n",
       "    </tr>\n",
       "    <tr>\n",
       "      <th>2</th>\n",
       "      <td>2002-01-01 16:00:00</td>\n",
       "      <td>2</td>\n",
       "      <td>Cottage</td>\n",
       "      <td>12.86</td>\n",
       "      <td>60.86</td>\n",
       "      <td>1.44</td>\n",
       "      <td>1.43</td>\n",
       "      <td>Middle</td>\n",
       "      <td>0</td>\n",
       "      <td>None</td>\n",
       "      <td>1.0</td>\n",
       "      <td>116.62</td>\n",
       "    </tr>\n",
       "    <tr>\n",
       "      <th>3</th>\n",
       "      <td>2002-01-02 00:00:00</td>\n",
       "      <td>2</td>\n",
       "      <td>1BHK</td>\n",
       "      <td>20.16</td>\n",
       "      <td>50.58</td>\n",
       "      <td>1.48</td>\n",
       "      <td>0.91</td>\n",
       "      <td>Middle</td>\n",
       "      <td>-1</td>\n",
       "      <td>Garden</td>\n",
       "      <td>0.0</td>\n",
       "      <td>76.96</td>\n",
       "    </tr>\n",
       "    <tr>\n",
       "      <th>4</th>\n",
       "      <td>2002-01-02 08:00:00</td>\n",
       "      <td>2</td>\n",
       "      <td>Cottage</td>\n",
       "      <td>16.23</td>\n",
       "      <td>52.25</td>\n",
       "      <td>1.14</td>\n",
       "      <td>1.11</td>\n",
       "      <td>Middle</td>\n",
       "      <td>0</td>\n",
       "      <td>Fountain</td>\n",
       "      <td>0.0</td>\n",
       "      <td>104.70</td>\n",
       "    </tr>\n",
       "  </tbody>\n",
       "</table>\n",
       "</div>"
      ],
      "text/plain": [
       "            Timestamp  Residents Apartment_Type  Temperature Humidity  \\\n",
       "0 2002-01-01 00:00:00          1         Studio        15.31    46.61   \n",
       "1 2002-01-01 08:00:00          4            NaN        21.01    66.11   \n",
       "2 2002-01-01 16:00:00          2        Cottage        12.86    60.86   \n",
       "3 2002-01-02 00:00:00          2           1BHK        20.16    50.58   \n",
       "4 2002-01-02 08:00:00          2        Cottage        16.23    52.25   \n",
       "\n",
       "   Water_Price  Period_Consumption_Index  Income_Level  Guests      Amenities  \\\n",
       "0         1.06                      0.97           Low       0  Swimming Pool   \n",
       "1         2.98                      0.91  Upper Middle       1  Swimming Pool   \n",
       "2         1.44                      1.43        Middle       0           None   \n",
       "3         1.48                      0.91        Middle      -1         Garden   \n",
       "4         1.14                      1.11        Middle       0       Fountain   \n",
       "\n",
       "   Appliance_Usage  Water_Consumption  \n",
       "0              0.0              64.85  \n",
       "1              1.0             192.50  \n",
       "2              1.0             116.62  \n",
       "3              0.0              76.96  \n",
       "4              0.0             104.70  "
      ]
     },
     "execution_count": 4,
     "metadata": {},
     "output_type": "execute_result"
    }
   ],
   "source": [
    "df['Timestamp'] = pd.to_datetime(df['Timestamp'], format='%d/%m/%Y %H')\n",
    "df.head()"
   ]
  },
  {
   "cell_type": "code",
   "execution_count": 5,
   "id": "6cea57b9",
   "metadata": {},
   "outputs": [],
   "source": [
    "# numeric columns\n",
    "numeric_cols = df.select_dtypes(include=['int64', 'float64']).columns\n",
    "\n",
    "# categorical columns\n",
    "categorical_cols = df.select_dtypes(include=['object']).columns"
   ]
  },
  {
   "cell_type": "code",
   "execution_count": 6,
   "id": "c99fa83a",
   "metadata": {},
   "outputs": [
    {
     "data": {
      "text/plain": [
       "Index(['Residents', 'Temperature', 'Water_Price', 'Period_Consumption_Index',\n",
       "       'Guests', 'Appliance_Usage', 'Water_Consumption'],\n",
       "      dtype='object')"
      ]
     },
     "execution_count": 6,
     "metadata": {},
     "output_type": "execute_result"
    }
   ],
   "source": [
    "numeric_cols"
   ]
  },
  {
   "cell_type": "code",
   "execution_count": 7,
   "id": "89e08c3f",
   "metadata": {},
   "outputs": [
    {
     "data": {
      "text/plain": [
       "Index(['Apartment_Type', 'Humidity', 'Income_Level', 'Amenities'], dtype='object')"
      ]
     },
     "execution_count": 7,
     "metadata": {},
     "output_type": "execute_result"
    }
   ],
   "source": [
    "categorical_cols"
   ]
  },
  {
   "cell_type": "code",
   "execution_count": 8,
   "id": "f6f778d6",
   "metadata": {},
   "outputs": [
    {
     "data": {
      "text/plain": [
       "Timestamp                     0\n",
       "Residents                     0\n",
       "Apartment_Type              426\n",
       "Temperature                 441\n",
       "Humidity                      0\n",
       "Water_Price                   0\n",
       "Period_Consumption_Index      0\n",
       "Income_Level                426\n",
       "Guests                        0\n",
       "Amenities                     0\n",
       "Appliance_Usage             415\n",
       "Water_Consumption             0\n",
       "dtype: int64"
      ]
     },
     "execution_count": 8,
     "metadata": {},
     "output_type": "execute_result"
    }
   ],
   "source": [
    "df.isnull().sum()"
   ]
  },
  {
   "cell_type": "code",
   "execution_count": 9,
   "id": "c41394cf",
   "metadata": {},
   "outputs": [],
   "source": [
    "df[\"Temperature\"]=df[\"Temperature\"].fillna(df[\"Temperature\"].mean())\n",
    "df[\"Appliance_Usage\"]=df[\"Appliance_Usage\"].fillna(df[\"Appliance_Usage\"].mean())"
   ]
  },
  {
   "cell_type": "code",
   "execution_count": 10,
   "id": "24f49f57",
   "metadata": {},
   "outputs": [],
   "source": [
    "df[\"Apartment_Type\"]=df[\"Apartment_Type\"].fillna('NA')\n",
    "df[\"Income_Level\"]=df[\"Income_Level\"].fillna('NA')"
   ]
  },
  {
   "cell_type": "code",
   "execution_count": 11,
   "id": "c14120c5",
   "metadata": {},
   "outputs": [
    {
     "data": {
      "text/plain": [
       "Timestamp                   0\n",
       "Residents                   0\n",
       "Apartment_Type              0\n",
       "Temperature                 0\n",
       "Humidity                    0\n",
       "Water_Price                 0\n",
       "Period_Consumption_Index    0\n",
       "Income_Level                0\n",
       "Guests                      0\n",
       "Amenities                   0\n",
       "Appliance_Usage             0\n",
       "Water_Consumption           0\n",
       "dtype: int64"
      ]
     },
     "execution_count": 11,
     "metadata": {},
     "output_type": "execute_result"
    }
   ],
   "source": [
    "df.isnull().sum()"
   ]
  },
  {
   "cell_type": "code",
   "execution_count": 12,
   "id": "46f5a383",
   "metadata": {},
   "outputs": [],
   "source": [
    "from sklearn.preprocessing import LabelEncoder\n",
    "encoder=LabelEncoder()\n",
    "\n",
    "df[\"Apartment_Type\"]=encoder.fit_transform(df[\"Apartment_Type\"])\n",
    "df[\"Income_Level\"]=encoder.fit_transform(df[\"Income_Level\"])\n",
    "df[\"Amenities\"]=encoder.fit_transform(df[\"Amenities\"])\n",
    "df[\"Humidity\"]=encoder.fit_transform(df[\"Humidity\"])\n"
   ]
  },
  {
   "cell_type": "code",
   "execution_count": 13,
   "id": "0150c9c7",
   "metadata": {},
   "outputs": [
    {
     "data": {
      "text/html": [
       "<div>\n",
       "<style scoped>\n",
       "    .dataframe tbody tr th:only-of-type {\n",
       "        vertical-align: middle;\n",
       "    }\n",
       "\n",
       "    .dataframe tbody tr th {\n",
       "        vertical-align: top;\n",
       "    }\n",
       "\n",
       "    .dataframe thead th {\n",
       "        text-align: right;\n",
       "    }\n",
       "</style>\n",
       "<table border=\"1\" class=\"dataframe\">\n",
       "  <thead>\n",
       "    <tr style=\"text-align: right;\">\n",
       "      <th></th>\n",
       "      <th>Timestamp</th>\n",
       "      <th>Residents</th>\n",
       "      <th>Apartment_Type</th>\n",
       "      <th>Temperature</th>\n",
       "      <th>Humidity</th>\n",
       "      <th>Water_Price</th>\n",
       "      <th>Period_Consumption_Index</th>\n",
       "      <th>Income_Level</th>\n",
       "      <th>Guests</th>\n",
       "      <th>Amenities</th>\n",
       "      <th>Appliance_Usage</th>\n",
       "      <th>Water_Consumption</th>\n",
       "    </tr>\n",
       "  </thead>\n",
       "  <tbody>\n",
       "    <tr>\n",
       "      <th>0</th>\n",
       "      <td>2002-01-01 00:00:00</td>\n",
       "      <td>1</td>\n",
       "      <td>7</td>\n",
       "      <td>15.31</td>\n",
       "      <td>1476</td>\n",
       "      <td>1.06</td>\n",
       "      <td>0.97</td>\n",
       "      <td>193</td>\n",
       "      <td>0</td>\n",
       "      <td>4</td>\n",
       "      <td>0.0</td>\n",
       "      <td>64.85</td>\n",
       "    </tr>\n",
       "    <tr>\n",
       "      <th>1</th>\n",
       "      <td>2002-01-01 08:00:00</td>\n",
       "      <td>4</td>\n",
       "      <td>6</td>\n",
       "      <td>21.01</td>\n",
       "      <td>3404</td>\n",
       "      <td>2.98</td>\n",
       "      <td>0.91</td>\n",
       "      <td>239</td>\n",
       "      <td>1</td>\n",
       "      <td>4</td>\n",
       "      <td>1.0</td>\n",
       "      <td>192.50</td>\n",
       "    </tr>\n",
       "    <tr>\n",
       "      <th>2</th>\n",
       "      <td>2002-01-01 16:00:00</td>\n",
       "      <td>2</td>\n",
       "      <td>4</td>\n",
       "      <td>12.86</td>\n",
       "      <td>2901</td>\n",
       "      <td>1.44</td>\n",
       "      <td>1.43</td>\n",
       "      <td>196</td>\n",
       "      <td>0</td>\n",
       "      <td>3</td>\n",
       "      <td>1.0</td>\n",
       "      <td>116.62</td>\n",
       "    </tr>\n",
       "    <tr>\n",
       "      <th>3</th>\n",
       "      <td>2002-01-02 00:00:00</td>\n",
       "      <td>2</td>\n",
       "      <td>0</td>\n",
       "      <td>20.16</td>\n",
       "      <td>1874</td>\n",
       "      <td>1.48</td>\n",
       "      <td>0.91</td>\n",
       "      <td>196</td>\n",
       "      <td>-1</td>\n",
       "      <td>1</td>\n",
       "      <td>0.0</td>\n",
       "      <td>76.96</td>\n",
       "    </tr>\n",
       "    <tr>\n",
       "      <th>4</th>\n",
       "      <td>2002-01-02 08:00:00</td>\n",
       "      <td>2</td>\n",
       "      <td>4</td>\n",
       "      <td>16.23</td>\n",
       "      <td>2040</td>\n",
       "      <td>1.14</td>\n",
       "      <td>1.11</td>\n",
       "      <td>196</td>\n",
       "      <td>0</td>\n",
       "      <td>0</td>\n",
       "      <td>0.0</td>\n",
       "      <td>104.70</td>\n",
       "    </tr>\n",
       "    <tr>\n",
       "      <th>5</th>\n",
       "      <td>2002-01-02 16:00:00</td>\n",
       "      <td>4</td>\n",
       "      <td>1</td>\n",
       "      <td>22.23</td>\n",
       "      <td>2201</td>\n",
       "      <td>1.15</td>\n",
       "      <td>1.46</td>\n",
       "      <td>196</td>\n",
       "      <td>0</td>\n",
       "      <td>3</td>\n",
       "      <td>1.0</td>\n",
       "      <td>218.23</td>\n",
       "    </tr>\n",
       "    <tr>\n",
       "      <th>6</th>\n",
       "      <td>2002-01-03 00:00:00</td>\n",
       "      <td>3</td>\n",
       "      <td>1</td>\n",
       "      <td>10.83</td>\n",
       "      <td>2565</td>\n",
       "      <td>2.98</td>\n",
       "      <td>1.07</td>\n",
       "      <td>239</td>\n",
       "      <td>0</td>\n",
       "      <td>4</td>\n",
       "      <td>0.0</td>\n",
       "      <td>135.80</td>\n",
       "    </tr>\n",
       "  </tbody>\n",
       "</table>\n",
       "</div>"
      ],
      "text/plain": [
       "            Timestamp  Residents  Apartment_Type  Temperature  Humidity  \\\n",
       "0 2002-01-01 00:00:00          1               7        15.31      1476   \n",
       "1 2002-01-01 08:00:00          4               6        21.01      3404   \n",
       "2 2002-01-01 16:00:00          2               4        12.86      2901   \n",
       "3 2002-01-02 00:00:00          2               0        20.16      1874   \n",
       "4 2002-01-02 08:00:00          2               4        16.23      2040   \n",
       "5 2002-01-02 16:00:00          4               1        22.23      2201   \n",
       "6 2002-01-03 00:00:00          3               1        10.83      2565   \n",
       "\n",
       "   Water_Price  Period_Consumption_Index  Income_Level  Guests  Amenities  \\\n",
       "0         1.06                      0.97           193       0          4   \n",
       "1         2.98                      0.91           239       1          4   \n",
       "2         1.44                      1.43           196       0          3   \n",
       "3         1.48                      0.91           196      -1          1   \n",
       "4         1.14                      1.11           196       0          0   \n",
       "5         1.15                      1.46           196       0          3   \n",
       "6         2.98                      1.07           239       0          4   \n",
       "\n",
       "   Appliance_Usage  Water_Consumption  \n",
       "0              0.0              64.85  \n",
       "1              1.0             192.50  \n",
       "2              1.0             116.62  \n",
       "3              0.0              76.96  \n",
       "4              0.0             104.70  \n",
       "5              1.0             218.23  \n",
       "6              0.0             135.80  "
      ]
     },
     "execution_count": 13,
     "metadata": {},
     "output_type": "execute_result"
    }
   ],
   "source": [
    "df.head(7)"
   ]
  },
  {
   "cell_type": "code",
   "execution_count": 15,
   "id": "4c02c884",
   "metadata": {},
   "outputs": [
    {
     "name": "stdout",
     "output_type": "stream",
     "text": [
      "Negative value counts per column:\n",
      "Residents                   280\n",
      "Apartment_Type                0\n",
      "Temperature                   0\n",
      "Humidity                      0\n",
      "Water_Price                 272\n",
      "Period_Consumption_Index      2\n",
      "Income_Level                  0\n",
      "Guests                      153\n",
      "Amenities                     0\n",
      "Appliance_Usage               0\n",
      "Water_Consumption             0\n",
      "dtype: int64\n"
     ]
    }
   ],
   "source": [
    "negative_count = (df.select_dtypes(exclude=['datetime64[ns]']) < 0).sum()\n",
    "print(\"Negative value counts per column:\")\n",
    "print(negative_count)"
   ]
  },
  {
   "cell_type": "code",
   "execution_count": 16,
   "id": "4530af99",
   "metadata": {},
   "outputs": [],
   "source": [
    "mean_value = df[df['Residents'] >= 0]['Residents'].mean()\n",
    "df['Residents'] = df['Residents'].apply(lambda x: mean_value if x < 0 else x)"
   ]
  },
  {
   "cell_type": "code",
   "execution_count": 19,
   "id": "530191f9",
   "metadata": {},
   "outputs": [],
   "source": [
    "mean_value = df[df['Water_Price'] >= 0]['Water_Price'].mean()\n",
    "df['Water_Price'] = df['Water_Price'].apply(lambda x: mean_value if x < 0 else x)\n",
    "\n",
    "mean_value = df[df['Guests'] >= 0]['Guests'].mean()\n",
    "df['Guests'] = df['Guests'].apply(lambda x: mean_value if x < 0 else x)\n",
    "\n",
    "mean_value = df[df['Period_Consumption_Index'] >= 0]['Guests'].mean()\n",
    "df['Period_Consumption_Index'] = df['Period_Consumption_Index'].apply(lambda x: mean_value if x < 0 else x)"
   ]
  },
  {
   "cell_type": "code",
   "execution_count": 20,
   "id": "146d2773",
   "metadata": {},
   "outputs": [
    {
     "name": "stdout",
     "output_type": "stream",
     "text": [
      "Negative value counts per column:\n",
      "Residents                   0\n",
      "Apartment_Type              0\n",
      "Temperature                 0\n",
      "Humidity                    0\n",
      "Water_Price                 0\n",
      "Period_Consumption_Index    0\n",
      "Income_Level                0\n",
      "Guests                      0\n",
      "Amenities                   0\n",
      "Appliance_Usage             0\n",
      "Water_Consumption           0\n",
      "dtype: int64\n"
     ]
    }
   ],
   "source": [
    "negative_count = (df.select_dtypes(exclude=['datetime64[ns]']) < 0).sum()\n",
    "print(\"Negative value counts per column:\")\n",
    "print(negative_count)"
   ]
  },
  {
   "cell_type": "code",
   "execution_count": 22,
   "id": "8c0bc993",
   "metadata": {},
   "outputs": [
    {
     "name": "stdout",
     "output_type": "stream",
     "text": [
      "Data saved in 'C:\\Users\\Lenovo\\Desktop\\Household_Water_consumption' directory.\n"
     ]
    }
   ],
   "source": [
    "import os\n",
    "\n",
    "save_dir=\"C:\\\\Users\\\\Lenovo\\\\Desktop\\\\Household_Water_consumption\"\n",
    "\n",
    "os.makedirs(save_dir, exist_ok=True)\n",
    "df.to_csv(os.path.join(save_dir, 'preprocessed_train_data.csv'), index=False)\n",
    "\n",
    "print(f\"Data saved in '{save_dir}' directory.\")"
   ]
  },
  {
   "cell_type": "code",
   "execution_count": null,
   "id": "2cbfc523",
   "metadata": {},
   "outputs": [],
   "source": []
  }
 ],
 "metadata": {
  "kernelspec": {
   "display_name": "Python 3 (ipykernel)",
   "language": "python",
   "name": "python3"
  },
  "language_info": {
   "codemirror_mode": {
    "name": "ipython",
    "version": 3
   },
   "file_extension": ".py",
   "mimetype": "text/x-python",
   "name": "python",
   "nbconvert_exporter": "python",
   "pygments_lexer": "ipython3",
   "version": "3.9.13"
  }
 },
 "nbformat": 4,
 "nbformat_minor": 5
}
