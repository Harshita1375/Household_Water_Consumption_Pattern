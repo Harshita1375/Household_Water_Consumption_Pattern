{
 "cells": [
  {
   "cell_type": "code",
   "execution_count": 1,
   "id": "3a704077",
   "metadata": {},
   "outputs": [],
   "source": [
    "import pandas as pd\n",
    "import numpy as np\n",
    "from sklearn.preprocessing import MinMaxScaler\n",
    "from tensorflow.keras.models import Sequential\n",
    "from tensorflow.keras.layers import LSTM, Dense"
   ]
  },
  {
   "cell_type": "code",
   "execution_count": 2,
   "id": "815021b9",
   "metadata": {},
   "outputs": [
    {
     "data": {
      "text/html": [
       "<div>\n",
       "<style scoped>\n",
       "    .dataframe tbody tr th:only-of-type {\n",
       "        vertical-align: middle;\n",
       "    }\n",
       "\n",
       "    .dataframe tbody tr th {\n",
       "        vertical-align: top;\n",
       "    }\n",
       "\n",
       "    .dataframe thead th {\n",
       "        text-align: right;\n",
       "    }\n",
       "</style>\n",
       "<table border=\"1\" class=\"dataframe\">\n",
       "  <thead>\n",
       "    <tr style=\"text-align: right;\">\n",
       "      <th></th>\n",
       "      <th>Timestamp</th>\n",
       "      <th>Residents</th>\n",
       "      <th>Apartment_Type</th>\n",
       "      <th>Temperature</th>\n",
       "      <th>Humidity</th>\n",
       "      <th>Water_Price</th>\n",
       "      <th>Period_Consumption_Index</th>\n",
       "      <th>Income_Level</th>\n",
       "      <th>Guests</th>\n",
       "      <th>Amenities</th>\n",
       "      <th>Appliance_Usage</th>\n",
       "    </tr>\n",
       "  </thead>\n",
       "  <tbody>\n",
       "    <tr>\n",
       "      <th>0</th>\n",
       "      <td>11/10/2014 16</td>\n",
       "      <td>5</td>\n",
       "      <td>Bungalow</td>\n",
       "      <td>11.89</td>\n",
       "      <td>57.88</td>\n",
       "      <td>2.77</td>\n",
       "      <td>1.48</td>\n",
       "      <td>Upper Middle</td>\n",
       "      <td>1</td>\n",
       "      <td>Jacuzzi</td>\n",
       "      <td>0.0</td>\n",
       "    </tr>\n",
       "    <tr>\n",
       "      <th>1</th>\n",
       "      <td>12/10/2014 00</td>\n",
       "      <td>4</td>\n",
       "      <td>Bungalow</td>\n",
       "      <td>29.22</td>\n",
       "      <td>61.41</td>\n",
       "      <td>2.85</td>\n",
       "      <td>1.30</td>\n",
       "      <td>Upper Middle</td>\n",
       "      <td>0</td>\n",
       "      <td>Garden</td>\n",
       "      <td>NaN</td>\n",
       "    </tr>\n",
       "    <tr>\n",
       "      <th>2</th>\n",
       "      <td>12/10/2014 08</td>\n",
       "      <td>3</td>\n",
       "      <td>Cottage</td>\n",
       "      <td>10.27</td>\n",
       "      <td>64.9</td>\n",
       "      <td>1.66</td>\n",
       "      <td>0.97</td>\n",
       "      <td>Middle</td>\n",
       "      <td>0</td>\n",
       "      <td>None</td>\n",
       "      <td>0.0</td>\n",
       "    </tr>\n",
       "    <tr>\n",
       "      <th>3</th>\n",
       "      <td>12/10/2014 16</td>\n",
       "      <td>3</td>\n",
       "      <td>1BHK</td>\n",
       "      <td>27.03</td>\n",
       "      <td>52.67</td>\n",
       "      <td>1.48</td>\n",
       "      <td>1.31</td>\n",
       "      <td>Low</td>\n",
       "      <td>0</td>\n",
       "      <td>None</td>\n",
       "      <td>0.0</td>\n",
       "    </tr>\n",
       "    <tr>\n",
       "      <th>4</th>\n",
       "      <td>13/10/2014 00</td>\n",
       "      <td>2</td>\n",
       "      <td>Cottage</td>\n",
       "      <td>12.32</td>\n",
       "      <td>55.23</td>\n",
       "      <td>1.19</td>\n",
       "      <td>1.30</td>\n",
       "      <td>Middle</td>\n",
       "      <td>0</td>\n",
       "      <td>Swimming Pool</td>\n",
       "      <td>0.0</td>\n",
       "    </tr>\n",
       "  </tbody>\n",
       "</table>\n",
       "</div>"
      ],
      "text/plain": [
       "       Timestamp  Residents Apartment_Type  Temperature Humidity  Water_Price  \\\n",
       "0  11/10/2014 16          5       Bungalow        11.89    57.88         2.77   \n",
       "1  12/10/2014 00          4       Bungalow        29.22    61.41         2.85   \n",
       "2  12/10/2014 08          3        Cottage        10.27     64.9         1.66   \n",
       "3  12/10/2014 16          3           1BHK        27.03    52.67         1.48   \n",
       "4  13/10/2014 00          2        Cottage        12.32    55.23         1.19   \n",
       "\n",
       "   Period_Consumption_Index  Income_Level  Guests      Amenities  \\\n",
       "0                      1.48  Upper Middle       1        Jacuzzi   \n",
       "1                      1.30  Upper Middle       0         Garden   \n",
       "2                      0.97        Middle       0           None   \n",
       "3                      1.31           Low       0           None   \n",
       "4                      1.30        Middle       0  Swimming Pool   \n",
       "\n",
       "   Appliance_Usage  \n",
       "0              0.0  \n",
       "1              NaN  \n",
       "2              0.0  \n",
       "3              0.0  \n",
       "4              0.0  "
      ]
     },
     "execution_count": 2,
     "metadata": {},
     "output_type": "execute_result"
    }
   ],
   "source": [
    "df = pd.read_csv(\"C:\\\\Users\\\\Lenovo\\\\Downloads\\\\new dataset\\\\dataset\\\\test.csv\")\n",
    "df.head()"
   ]
  },
  {
   "cell_type": "code",
   "execution_count": 3,
   "id": "197452b6",
   "metadata": {},
   "outputs": [
    {
     "data": {
      "text/html": [
       "<div>\n",
       "<style scoped>\n",
       "    .dataframe tbody tr th:only-of-type {\n",
       "        vertical-align: middle;\n",
       "    }\n",
       "\n",
       "    .dataframe tbody tr th {\n",
       "        vertical-align: top;\n",
       "    }\n",
       "\n",
       "    .dataframe thead th {\n",
       "        text-align: right;\n",
       "    }\n",
       "</style>\n",
       "<table border=\"1\" class=\"dataframe\">\n",
       "  <thead>\n",
       "    <tr style=\"text-align: right;\">\n",
       "      <th></th>\n",
       "      <th>Timestamp</th>\n",
       "      <th>Residents</th>\n",
       "      <th>Apartment_Type</th>\n",
       "      <th>Temperature</th>\n",
       "      <th>Humidity</th>\n",
       "      <th>Water_Price</th>\n",
       "      <th>Period_Consumption_Index</th>\n",
       "      <th>Income_Level</th>\n",
       "      <th>Guests</th>\n",
       "      <th>Amenities</th>\n",
       "      <th>Appliance_Usage</th>\n",
       "    </tr>\n",
       "  </thead>\n",
       "  <tbody>\n",
       "    <tr>\n",
       "      <th>0</th>\n",
       "      <td>2014-10-11 16:00:00</td>\n",
       "      <td>5</td>\n",
       "      <td>Bungalow</td>\n",
       "      <td>11.89</td>\n",
       "      <td>57.88</td>\n",
       "      <td>2.77</td>\n",
       "      <td>1.48</td>\n",
       "      <td>Upper Middle</td>\n",
       "      <td>1</td>\n",
       "      <td>Jacuzzi</td>\n",
       "      <td>0.0</td>\n",
       "    </tr>\n",
       "    <tr>\n",
       "      <th>1</th>\n",
       "      <td>2014-10-12 00:00:00</td>\n",
       "      <td>4</td>\n",
       "      <td>Bungalow</td>\n",
       "      <td>29.22</td>\n",
       "      <td>61.41</td>\n",
       "      <td>2.85</td>\n",
       "      <td>1.30</td>\n",
       "      <td>Upper Middle</td>\n",
       "      <td>0</td>\n",
       "      <td>Garden</td>\n",
       "      <td>NaN</td>\n",
       "    </tr>\n",
       "    <tr>\n",
       "      <th>2</th>\n",
       "      <td>2014-10-12 08:00:00</td>\n",
       "      <td>3</td>\n",
       "      <td>Cottage</td>\n",
       "      <td>10.27</td>\n",
       "      <td>64.9</td>\n",
       "      <td>1.66</td>\n",
       "      <td>0.97</td>\n",
       "      <td>Middle</td>\n",
       "      <td>0</td>\n",
       "      <td>None</td>\n",
       "      <td>0.0</td>\n",
       "    </tr>\n",
       "    <tr>\n",
       "      <th>3</th>\n",
       "      <td>2014-10-12 16:00:00</td>\n",
       "      <td>3</td>\n",
       "      <td>1BHK</td>\n",
       "      <td>27.03</td>\n",
       "      <td>52.67</td>\n",
       "      <td>1.48</td>\n",
       "      <td>1.31</td>\n",
       "      <td>Low</td>\n",
       "      <td>0</td>\n",
       "      <td>None</td>\n",
       "      <td>0.0</td>\n",
       "    </tr>\n",
       "    <tr>\n",
       "      <th>4</th>\n",
       "      <td>2014-10-13 00:00:00</td>\n",
       "      <td>2</td>\n",
       "      <td>Cottage</td>\n",
       "      <td>12.32</td>\n",
       "      <td>55.23</td>\n",
       "      <td>1.19</td>\n",
       "      <td>1.30</td>\n",
       "      <td>Middle</td>\n",
       "      <td>0</td>\n",
       "      <td>Swimming Pool</td>\n",
       "      <td>0.0</td>\n",
       "    </tr>\n",
       "  </tbody>\n",
       "</table>\n",
       "</div>"
      ],
      "text/plain": [
       "            Timestamp  Residents Apartment_Type  Temperature Humidity  \\\n",
       "0 2014-10-11 16:00:00          5       Bungalow        11.89    57.88   \n",
       "1 2014-10-12 00:00:00          4       Bungalow        29.22    61.41   \n",
       "2 2014-10-12 08:00:00          3        Cottage        10.27     64.9   \n",
       "3 2014-10-12 16:00:00          3           1BHK        27.03    52.67   \n",
       "4 2014-10-13 00:00:00          2        Cottage        12.32    55.23   \n",
       "\n",
       "   Water_Price  Period_Consumption_Index  Income_Level  Guests      Amenities  \\\n",
       "0         2.77                      1.48  Upper Middle       1        Jacuzzi   \n",
       "1         2.85                      1.30  Upper Middle       0         Garden   \n",
       "2         1.66                      0.97        Middle       0           None   \n",
       "3         1.48                      1.31           Low       0           None   \n",
       "4         1.19                      1.30        Middle       0  Swimming Pool   \n",
       "\n",
       "   Appliance_Usage  \n",
       "0              0.0  \n",
       "1              NaN  \n",
       "2              0.0  \n",
       "3              0.0  \n",
       "4              0.0  "
      ]
     },
     "execution_count": 3,
     "metadata": {},
     "output_type": "execute_result"
    }
   ],
   "source": [
    "df['Timestamp'] = pd.to_datetime(df['Timestamp'], format='%d/%m/%Y %H')\n",
    "df.head()"
   ]
  },
  {
   "cell_type": "code",
   "execution_count": 4,
   "id": "2ac67ecb",
   "metadata": {},
   "outputs": [],
   "source": [
    "# numeric columns\n",
    "numeric_cols = df.select_dtypes(include=['int64', 'float64']).columns\n",
    "\n",
    "# categorical columns\n",
    "categorical_cols = df.select_dtypes(include=['object']).columns"
   ]
  },
  {
   "cell_type": "code",
   "execution_count": 5,
   "id": "5167b30f",
   "metadata": {},
   "outputs": [
    {
     "data": {
      "text/plain": [
       "Index(['Apartment_Type', 'Humidity', 'Income_Level', 'Amenities'], dtype='object')"
      ]
     },
     "execution_count": 5,
     "metadata": {},
     "output_type": "execute_result"
    }
   ],
   "source": [
    "categorical_cols"
   ]
  },
  {
   "cell_type": "code",
   "execution_count": 6,
   "id": "aecdfbbb",
   "metadata": {},
   "outputs": [
    {
     "data": {
      "text/plain": [
       "Index(['Residents', 'Temperature', 'Water_Price', 'Period_Consumption_Index',\n",
       "       'Guests', 'Appliance_Usage'],\n",
       "      dtype='object')"
      ]
     },
     "execution_count": 6,
     "metadata": {},
     "output_type": "execute_result"
    }
   ],
   "source": [
    "numeric_cols"
   ]
  },
  {
   "cell_type": "code",
   "execution_count": 7,
   "id": "20a770eb",
   "metadata": {},
   "outputs": [
    {
     "data": {
      "text/plain": [
       "Timestamp                     0\n",
       "Residents                     0\n",
       "Apartment_Type              166\n",
       "Temperature                 150\n",
       "Humidity                      0\n",
       "Water_Price                   0\n",
       "Period_Consumption_Index      0\n",
       "Income_Level                165\n",
       "Guests                        0\n",
       "Amenities                     0\n",
       "Appliance_Usage             177\n",
       "dtype: int64"
      ]
     },
     "execution_count": 7,
     "metadata": {},
     "output_type": "execute_result"
    }
   ],
   "source": [
    "df.isnull().sum()"
   ]
  },
  {
   "cell_type": "code",
   "execution_count": 8,
   "id": "4808867e",
   "metadata": {},
   "outputs": [],
   "source": [
    "df[\"Apartment_Type\"]=df[\"Apartment_Type\"].fillna('NA')\n",
    "df[\"Income_Level\"]=df[\"Income_Level\"].fillna('NA')"
   ]
  },
  {
   "cell_type": "code",
   "execution_count": 9,
   "id": "dd5990b2",
   "metadata": {},
   "outputs": [],
   "source": [
    "df[\"Temperature\"]=df[\"Temperature\"].fillna(df[\"Temperature\"].mean())\n",
    "df[\"Appliance_Usage\"]=df[\"Appliance_Usage\"].fillna(df[\"Appliance_Usage\"].mean())"
   ]
  },
  {
   "cell_type": "code",
   "execution_count": 10,
   "id": "319e5dd7",
   "metadata": {},
   "outputs": [
    {
     "data": {
      "text/plain": [
       "Timestamp                   0\n",
       "Residents                   0\n",
       "Apartment_Type              0\n",
       "Temperature                 0\n",
       "Humidity                    0\n",
       "Water_Price                 0\n",
       "Period_Consumption_Index    0\n",
       "Income_Level                0\n",
       "Guests                      0\n",
       "Amenities                   0\n",
       "Appliance_Usage             0\n",
       "dtype: int64"
      ]
     },
     "execution_count": 10,
     "metadata": {},
     "output_type": "execute_result"
    }
   ],
   "source": [
    "df.isnull().sum()"
   ]
  },
  {
   "cell_type": "code",
   "execution_count": 11,
   "id": "f61dc79b",
   "metadata": {},
   "outputs": [],
   "source": [
    "from sklearn.preprocessing import LabelEncoder\n",
    "encoder=LabelEncoder()\n",
    "\n",
    "df[\"Apartment_Type\"]=encoder.fit_transform(df[\"Apartment_Type\"])\n",
    "df[\"Income_Level\"]=encoder.fit_transform(df[\"Income_Level\"])\n",
    "df[\"Amenities\"]=encoder.fit_transform(df[\"Amenities\"])\n",
    "df[\"Humidity\"]=encoder.fit_transform(df[\"Humidity\"])"
   ]
  },
  {
   "cell_type": "code",
   "execution_count": 12,
   "id": "865f6ef4",
   "metadata": {},
   "outputs": [
    {
     "name": "stdout",
     "output_type": "stream",
     "text": [
      "Negative value counts per column:\n",
      "Residents                   116\n",
      "Apartment_Type                0\n",
      "Temperature                   0\n",
      "Humidity                      0\n",
      "Water_Price                 126\n",
      "Period_Consumption_Index      1\n",
      "Income_Level                  0\n",
      "Guests                       63\n",
      "Amenities                     0\n",
      "Appliance_Usage               0\n",
      "dtype: int64\n"
     ]
    }
   ],
   "source": [
    "negative_count = (df.select_dtypes(exclude=['datetime64[ns]']) < 0).sum()\n",
    "print(\"Negative value counts per column:\")\n",
    "print(negative_count)"
   ]
  },
  {
   "cell_type": "code",
   "execution_count": 13,
   "id": "164f28ea",
   "metadata": {},
   "outputs": [],
   "source": [
    "mean_value = df[df['Residents'] >= 0]['Residents'].mean()\n",
    "df['Residents'] = df['Residents'].apply(lambda x: mean_value if x < 0 else x)\n",
    "\n",
    "mean_value = df[df['Water_Price'] >= 0]['Water_Price'].mean()\n",
    "df['Water_Price'] = df['Water_Price'].apply(lambda x: mean_value if x < 0 else x)\n",
    "\n",
    "mean_value = df[df['Guests'] >= 0]['Guests'].mean()\n",
    "df['Guests'] = df['Guests'].apply(lambda x: mean_value if x < 0 else x)\n",
    "\n",
    "mean_value = df[df['Period_Consumption_Index'] >= 0]['Guests'].mean()\n",
    "df['Period_Consumption_Index'] = df['Period_Consumption_Index'].apply(lambda x: mean_value if x < 0 else x)"
   ]
  },
  {
   "cell_type": "code",
   "execution_count": 14,
   "id": "4bae34c1",
   "metadata": {},
   "outputs": [
    {
     "name": "stdout",
     "output_type": "stream",
     "text": [
      "Negative value counts per column:\n",
      "Residents                   0\n",
      "Apartment_Type              0\n",
      "Temperature                 0\n",
      "Humidity                    0\n",
      "Water_Price                 0\n",
      "Period_Consumption_Index    0\n",
      "Income_Level                0\n",
      "Guests                      0\n",
      "Amenities                   0\n",
      "Appliance_Usage             0\n",
      "dtype: int64\n"
     ]
    }
   ],
   "source": [
    "negative_count = (df.select_dtypes(exclude=['datetime64[ns]']) < 0).sum()\n",
    "print(\"Negative value counts per column:\")\n",
    "print(negative_count)"
   ]
  },
  {
   "cell_type": "code",
   "execution_count": 15,
   "id": "a4df23a3",
   "metadata": {},
   "outputs": [
    {
     "name": "stdout",
     "output_type": "stream",
     "text": [
      "Data saved in 'C:\\Users\\Lenovo\\Desktop\\Household_Water_consumption' directory.\n"
     ]
    }
   ],
   "source": [
    "import os\n",
    "\n",
    "save_dir=\"C:\\\\Users\\\\Lenovo\\\\Desktop\\\\Household_Water_consumption\"\n",
    "\n",
    "os.makedirs(save_dir, exist_ok=True)\n",
    "df.to_csv(os.path.join(save_dir, 'preprocessed_test_data.csv'), index=False)\n",
    "\n",
    "print(f\"Data saved in '{save_dir}' directory.\")"
   ]
  },
  {
   "cell_type": "code",
   "execution_count": null,
   "id": "dc4783ec",
   "metadata": {},
   "outputs": [],
   "source": []
  }
 ],
 "metadata": {
  "kernelspec": {
   "display_name": "Python 3 (ipykernel)",
   "language": "python",
   "name": "python3"
  },
  "language_info": {
   "codemirror_mode": {
    "name": "ipython",
    "version": 3
   },
   "file_extension": ".py",
   "mimetype": "text/x-python",
   "name": "python",
   "nbconvert_exporter": "python",
   "pygments_lexer": "ipython3",
   "version": "3.9.13"
  }
 },
 "nbformat": 4,
 "nbformat_minor": 5
}
